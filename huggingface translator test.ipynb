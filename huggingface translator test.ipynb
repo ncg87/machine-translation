{
 "cells": [
  {
   "cell_type": "code",
   "execution_count": 1,
   "metadata": {},
   "outputs": [
    {
     "name": "stdout",
     "output_type": "stream",
     "text": [
      "Requirement already satisfied: transformers in /usr/local/lib/python3.11/dist-packages (4.35.2)\n",
      "Requirement already satisfied: sentencepiece in /usr/local/lib/python3.11/dist-packages (0.1.99)\n",
      "Requirement already satisfied: datasets in /usr/local/lib/python3.11/dist-packages (2.14.5)\n",
      "Requirement already satisfied: filelock in /usr/local/lib/python3.11/dist-packages (from transformers) (3.13.1)\n",
      "Requirement already satisfied: huggingface-hub<1.0,>=0.16.4 in /usr/local/lib/python3.11/dist-packages (from transformers) (0.20.3)\n",
      "Requirement already satisfied: numpy>=1.17 in /usr/local/lib/python3.11/dist-packages (from transformers) (1.26.3)\n",
      "Requirement already satisfied: packaging>=20.0 in /usr/local/lib/python3.11/dist-packages (from transformers) (23.2)\n",
      "Requirement already satisfied: pyyaml>=5.1 in /usr/lib/python3/dist-packages (from transformers) (5.4.1)\n",
      "Requirement already satisfied: regex!=2019.12.17 in /usr/local/lib/python3.11/dist-packages (from transformers) (2023.12.25)\n",
      "Requirement already satisfied: requests in /usr/local/lib/python3.11/dist-packages (from transformers) (2.31.0)\n",
      "Requirement already satisfied: tokenizers<0.19,>=0.14 in /usr/local/lib/python3.11/dist-packages (from transformers) (0.15.1)\n",
      "Requirement already satisfied: safetensors>=0.3.1 in /usr/local/lib/python3.11/dist-packages (from transformers) (0.4.0)\n",
      "Requirement already satisfied: tqdm>=4.27 in /usr/local/lib/python3.11/dist-packages (from transformers) (4.66.1)\n",
      "Requirement already satisfied: pyarrow>=8.0.0 in /usr/local/lib/python3.11/dist-packages (from datasets) (15.0.0)\n",
      "Requirement already satisfied: dill<0.3.8,>=0.3.0 in /usr/local/lib/python3.11/dist-packages (from datasets) (0.3.7)\n",
      "Requirement already satisfied: pandas in /usr/local/lib/python3.11/dist-packages (from datasets) (2.2.0)\n",
      "Requirement already satisfied: xxhash in /usr/local/lib/python3.11/dist-packages (from datasets) (3.4.1)\n",
      "Requirement already satisfied: multiprocess in /usr/local/lib/python3.11/dist-packages (from datasets) (0.70.15)\n",
      "Requirement already satisfied: fsspec<2023.9.0,>=2023.1.0 in /usr/local/lib/python3.11/dist-packages (from fsspec[http]<2023.9.0,>=2023.1.0->datasets) (2023.6.0)\n",
      "Requirement already satisfied: aiohttp in /usr/local/lib/python3.11/dist-packages (from datasets) (3.9.1)\n",
      "Requirement already satisfied: attrs>=17.3.0 in /usr/local/lib/python3.11/dist-packages (from aiohttp->datasets) (23.1.0)\n",
      "Requirement already satisfied: multidict<7.0,>=4.5 in /usr/local/lib/python3.11/dist-packages (from aiohttp->datasets) (6.0.4)\n",
      "Requirement already satisfied: yarl<2.0,>=1.0 in /usr/local/lib/python3.11/dist-packages (from aiohttp->datasets) (1.9.4)\n",
      "Requirement already satisfied: frozenlist>=1.1.1 in /usr/local/lib/python3.11/dist-packages (from aiohttp->datasets) (1.4.1)\n",
      "Requirement already satisfied: aiosignal>=1.1.2 in /usr/local/lib/python3.11/dist-packages (from aiohttp->datasets) (1.3.1)\n",
      "Requirement already satisfied: typing-extensions>=3.7.4.3 in /usr/local/lib/python3.11/dist-packages (from huggingface-hub<1.0,>=0.16.4->transformers) (4.9.0)\n",
      "Requirement already satisfied: charset-normalizer<4,>=2 in /usr/local/lib/python3.11/dist-packages (from requests->transformers) (3.3.2)\n",
      "Requirement already satisfied: idna<4,>=2.5 in /usr/lib/python3/dist-packages (from requests->transformers) (3.3)\n",
      "Requirement already satisfied: urllib3<3,>=1.21.1 in /usr/local/lib/python3.11/dist-packages (from requests->transformers) (2.0.7)\n",
      "Requirement already satisfied: certifi>=2017.4.17 in /usr/lib/python3/dist-packages (from requests->transformers) (2020.6.20)\n",
      "Requirement already satisfied: python-dateutil>=2.8.2 in /usr/local/lib/python3.11/dist-packages (from pandas->datasets) (2.8.2)\n",
      "Requirement already satisfied: pytz>=2020.1 in /usr/lib/python3/dist-packages (from pandas->datasets) (2022.1)\n",
      "Requirement already satisfied: tzdata>=2022.7 in /usr/local/lib/python3.11/dist-packages (from pandas->datasets) (2023.4)\n",
      "Requirement already satisfied: six>=1.5 in /usr/lib/python3/dist-packages (from python-dateutil>=2.8.2->pandas->datasets) (1.16.0)\n",
      "\u001b[33mWARNING: Running pip as the 'root' user can result in broken permissions and conflicting behaviour with the system package manager. It is recommended to use a virtual environment instead: https://pip.pypa.io/warnings/venv\u001b[0m\u001b[33m\n",
      "\u001b[0m"
     ]
    }
   ],
   "source": [
    "!pip install transformers sentencepiece datasets"
   ]
  },
  {
   "cell_type": "code",
   "execution_count": 2,
   "metadata": {},
   "outputs": [],
   "source": [
    "import transformers\n",
    "import sentencepiece\n",
    "import datasets\n",
    "import torch\n",
    "import matplotlib.pyplot as plt\n",
    "import numpy as np\n",
    "import tqdm\n",
    "import itertools\n",
    "\n",
    "from datasets import load_dataset\n",
    "from transformers import AdamW, AutoTokenizer, AutoModelForSeq2SeqLM\n",
    "from transformers import get_linear_schedule_with_warmup"
   ]
  },
  {
   "cell_type": "code",
   "execution_count": 3,
   "metadata": {},
   "outputs": [],
   "source": [
    "# maybe want to use  mt5-base\n",
    "model_repo = 'google/mt5-small'"
   ]
  },
  {
   "cell_type": "markdown",
   "metadata": {},
   "source": [
    "Loading the pretrained tokenizer and model"
   ]
  },
  {
   "cell_type": "code",
   "execution_count": 4,
   "metadata": {},
   "outputs": [
    {
     "data": {
      "application/vnd.jupyter.widget-view+json": {
       "model_id": "225b4f70aaa04270a54454310d5fd770",
       "version_major": 2,
       "version_minor": 0
      },
      "text/plain": [
       "tokenizer_config.json:   0%|          | 0.00/82.0 [00:00<?, ?B/s]"
      ]
     },
     "metadata": {},
     "output_type": "display_data"
    },
    {
     "data": {
      "application/vnd.jupyter.widget-view+json": {
       "model_id": "307afd20c0de49eaa5786d2081375186",
       "version_major": 2,
       "version_minor": 0
      },
      "text/plain": [
       "config.json:   0%|          | 0.00/553 [00:00<?, ?B/s]"
      ]
     },
     "metadata": {},
     "output_type": "display_data"
    },
    {
     "data": {
      "application/vnd.jupyter.widget-view+json": {
       "model_id": "672daf2e51354fc394ace1ef2e9f5fca",
       "version_major": 2,
       "version_minor": 0
      },
      "text/plain": [
       "spiece.model:   0%|          | 0.00/4.31M [00:00<?, ?B/s]"
      ]
     },
     "metadata": {},
     "output_type": "display_data"
    },
    {
     "data": {
      "application/vnd.jupyter.widget-view+json": {
       "model_id": "19022a061e6e4d4a9eba621bf784630b",
       "version_major": 2,
       "version_minor": 0
      },
      "text/plain": [
       "special_tokens_map.json:   0%|          | 0.00/99.0 [00:00<?, ?B/s]"
      ]
     },
     "metadata": {},
     "output_type": "display_data"
    },
    {
     "name": "stderr",
     "output_type": "stream",
     "text": [
      "You are using the default legacy behaviour of the <class 'transformers.models.t5.tokenization_t5.T5Tokenizer'>. This is expected, and simply means that the `legacy` (previous) behavior will be used so nothing changes for you. If you want to use the new behaviour, set `legacy=False`. This should only be set if you understand what it means, and thouroughly read the reason why this was added as explained in https://github.com/huggingface/transformers/pull/24565\n",
      "/usr/local/lib/python3.11/dist-packages/transformers/convert_slow_tokenizer.py:473: UserWarning: The sentencepiece tokenizer that you are converting to a fast tokenizer uses the byte fallback option which is not implemented in the fast tokenizers. In practice this means that the fast version of the tokenizer can produce unknown tokens whereas the sentencepiece version would have converted these unknown tokens into a sequence of byte tokens matching the original piece of text.\n",
      "  warnings.warn(\n"
     ]
    },
    {
     "data": {
      "application/vnd.jupyter.widget-view+json": {
       "model_id": "3fa5d834842c4e6b9db2ba29cd7290b4",
       "version_major": 2,
       "version_minor": 0
      },
      "text/plain": [
       "pytorch_model.bin:   0%|          | 0.00/1.20G [00:00<?, ?B/s]"
      ]
     },
     "metadata": {},
     "output_type": "display_data"
    },
    {
     "data": {
      "application/vnd.jupyter.widget-view+json": {
       "model_id": "66611d8aa990480594441c02b82e7666",
       "version_major": 2,
       "version_minor": 0
      },
      "text/plain": [
       "generation_config.json:   0%|          | 0.00/147 [00:00<?, ?B/s]"
      ]
     },
     "metadata": {},
     "output_type": "display_data"
    }
   ],
   "source": [
    "# download mt5 tokenizer\n",
    "tokenizer = AutoTokenizer.from_pretrained(model_repo)\n",
    "# download model\n",
    "model= AutoModelForSeq2SeqLM.from_pretrained(model_repo)\n",
    "# puts model onto GPU\n",
    "model = model.cuda()"
   ]
  },
  {
   "cell_type": "markdown",
   "metadata": {},
   "source": [
    "testing the tokenizer"
   ]
  },
  {
   "cell_type": "code",
   "execution_count": 5,
   "metadata": {},
   "outputs": [
    {
     "name": "stdout",
     "output_type": "stream",
     "text": [
      "tensor([[  714,   339,   259,   262,   259, 98923,     1]], device='cuda:0')\n"
     ]
    }
   ],
   "source": [
    "# initalize test sentence\n",
    "input = 'this is a sentence'\n",
    "# tokenize sentence, convert to tensor, and put onto GPU\n",
    "token_ids = tokenizer.encode(input, return_tensors='pt').cuda()\n",
    "# show tokenized sentence\n",
    "print(token_ids)"
   ]
  },
  {
   "cell_type": "code",
   "execution_count": 6,
   "metadata": {},
   "outputs": [
    {
     "name": "stderr",
     "output_type": "stream",
     "text": [
      "/usr/local/lib/python3.11/dist-packages/transformers/generation/utils.py:1273: UserWarning: Using the model-agnostic default `max_length` (=20) to control the generation length. We recommend setting `max_new_tokens` to control the maximum length of the generation.\n",
      "  warnings.warn(\n"
     ]
    },
    {
     "name": "stdout",
     "output_type": "stream",
     "text": [
      "<pad> <extra_id_0></s>\n"
     ]
    }
   ],
   "source": [
    "# put input through model\n",
    "output = model.generate(token_ids)\n",
    "# convert output to tokens and then to string\n",
    "output_str = tokenizer.convert_tokens_to_string(\n",
    "    tokenizer.convert_ids_to_tokens(output[0])\n",
    "    )\n",
    "print(output_str)"
   ]
  },
  {
   "cell_type": "code",
   "execution_count": 7,
   "metadata": {},
   "outputs": [
    {
     "name": "stdout",
     "output_type": "stream",
     "text": [
      "tensor([[ 1042,   263,   325,   669,   714,   568,   263,   259,   262,   259,\n",
      "         98923,   742,   263,   285,  2547,     1]], device='cuda:0')\n",
      "['▁<', 's', 'p', '>', '▁this', '▁ni', 's', '▁', 'a', '▁', 'sentence', '▁f', 's', 'd', 'ff', '</s>']\n"
     ]
    }
   ],
   "source": [
    "example_input = '<sp> this nis a sentence fsdff'\n",
    "input_ids = tokenizer.encode(example_input, return_tensors='pt').cuda()\n",
    "print(input_ids)\n",
    "\n",
    "tokens = tokenizer.convert_ids_to_tokens(input_ids[0])\n",
    "print(tokens)"
   ]
  },
  {
   "cell_type": "code",
   "execution_count": 8,
   "metadata": {},
   "outputs": [
    {
     "data": {
      "text/plain": [
       "[('<pad>', 0),\n",
       " ('</s>', 1),\n",
       " ('<unk>', 2),\n",
       " ('<0x00>', 3),\n",
       " ('<0x01>', 4),\n",
       " ('<0x02>', 5),\n",
       " ('<0x03>', 6),\n",
       " ('<0x04>', 7),\n",
       " ('<0x05>', 8),\n",
       " ('<0x06>', 9),\n",
       " ('<0x07>', 10),\n",
       " ('<0x08>', 11),\n",
       " ('<0x09>', 12),\n",
       " ('<0x0A>', 13),\n",
       " ('<0x0B>', 14),\n",
       " ('<0x0C>', 15),\n",
       " ('<0x0D>', 16),\n",
       " ('<0x0E>', 17),\n",
       " ('<0x0F>', 18),\n",
       " ('<0x10>', 19),\n",
       " ('<0x11>', 20),\n",
       " ('<0x12>', 21),\n",
       " ('<0x13>', 22),\n",
       " ('<0x14>', 23),\n",
       " ('<0x15>', 24),\n",
       " ('<0x16>', 25),\n",
       " ('<0x17>', 26),\n",
       " ('<0x18>', 27),\n",
       " ('<0x19>', 28),\n",
       " ('<0x1A>', 29),\n",
       " ('<0x1B>', 30),\n",
       " ('<0x1C>', 31),\n",
       " ('<0x1D>', 32),\n",
       " ('<0x1E>', 33),\n",
       " ('<0x1F>', 34),\n",
       " ('<0x20>', 35),\n",
       " ('<0x21>', 36),\n",
       " ('<0x22>', 37),\n",
       " ('<0x23>', 38),\n",
       " ('<0x24>', 39),\n",
       " ('<0x25>', 40),\n",
       " ('<0x26>', 41),\n",
       " ('<0x27>', 42),\n",
       " ('<0x28>', 43),\n",
       " ('<0x29>', 44),\n",
       " ('<0x2A>', 45),\n",
       " ('<0x2B>', 46),\n",
       " ('<0x2C>', 47),\n",
       " ('<0x2D>', 48),\n",
       " ('<0x2E>', 49),\n",
       " ('<0x2F>', 50),\n",
       " ('<0x30>', 51),\n",
       " ('<0x31>', 52),\n",
       " ('<0x32>', 53),\n",
       " ('<0x33>', 54),\n",
       " ('<0x34>', 55),\n",
       " ('<0x35>', 56),\n",
       " ('<0x36>', 57),\n",
       " ('<0x37>', 58),\n",
       " ('<0x38>', 59),\n",
       " ('<0x39>', 60),\n",
       " ('<0x3A>', 61),\n",
       " ('<0x3B>', 62),\n",
       " ('<0x3C>', 63),\n",
       " ('<0x3D>', 64),\n",
       " ('<0x3E>', 65),\n",
       " ('<0x3F>', 66),\n",
       " ('<0x40>', 67),\n",
       " ('<0x41>', 68),\n",
       " ('<0x42>', 69),\n",
       " ('<0x43>', 70),\n",
       " ('<0x44>', 71),\n",
       " ('<0x45>', 72),\n",
       " ('<0x46>', 73),\n",
       " ('<0x47>', 74),\n",
       " ('<0x48>', 75),\n",
       " ('<0x49>', 76),\n",
       " ('<0x4A>', 77),\n",
       " ('<0x4B>', 78),\n",
       " ('<0x4C>', 79),\n",
       " ('<0x4D>', 80),\n",
       " ('<0x4E>', 81),\n",
       " ('<0x4F>', 82),\n",
       " ('<0x50>', 83),\n",
       " ('<0x51>', 84),\n",
       " ('<0x52>', 85),\n",
       " ('<0x53>', 86),\n",
       " ('<0x54>', 87),\n",
       " ('<0x55>', 88),\n",
       " ('<0x56>', 89),\n",
       " ('<0x57>', 90),\n",
       " ('<0x58>', 91),\n",
       " ('<0x59>', 92),\n",
       " ('<0x5A>', 93),\n",
       " ('<0x5B>', 94),\n",
       " ('<0x5C>', 95),\n",
       " ('<0x5D>', 96),\n",
       " ('<0x5E>', 97),\n",
       " ('<0x5F>', 98),\n",
       " ('<0x60>', 99),\n",
       " ('<0x61>', 100),\n",
       " ('<0x62>', 101),\n",
       " ('<0x63>', 102),\n",
       " ('<0x64>', 103),\n",
       " ('<0x65>', 104),\n",
       " ('<0x66>', 105),\n",
       " ('<0x67>', 106),\n",
       " ('<0x68>', 107),\n",
       " ('<0x69>', 108),\n",
       " ('<0x6A>', 109),\n",
       " ('<0x6B>', 110),\n",
       " ('<0x6C>', 111),\n",
       " ('<0x6D>', 112),\n",
       " ('<0x6E>', 113),\n",
       " ('<0x6F>', 114),\n",
       " ('<0x70>', 115),\n",
       " ('<0x71>', 116),\n",
       " ('<0x72>', 117),\n",
       " ('<0x73>', 118),\n",
       " ('<0x74>', 119),\n",
       " ('<0x75>', 120),\n",
       " ('<0x76>', 121),\n",
       " ('<0x77>', 122),\n",
       " ('<0x78>', 123),\n",
       " ('<0x79>', 124),\n",
       " ('<0x7A>', 125),\n",
       " ('<0x7B>', 126),\n",
       " ('<0x7C>', 127),\n",
       " ('<0x7D>', 128),\n",
       " ('<0x7E>', 129),\n",
       " ('<0x7F>', 130),\n",
       " ('<0x80>', 131),\n",
       " ('<0x81>', 132),\n",
       " ('<0x82>', 133),\n",
       " ('<0x83>', 134),\n",
       " ('<0x84>', 135),\n",
       " ('<0x85>', 136),\n",
       " ('<0x86>', 137),\n",
       " ('<0x87>', 138),\n",
       " ('<0x88>', 139),\n",
       " ('<0x89>', 140),\n",
       " ('<0x8A>', 141),\n",
       " ('<0x8B>', 142),\n",
       " ('<0x8C>', 143),\n",
       " ('<0x8D>', 144),\n",
       " ('<0x8E>', 145),\n",
       " ('<0x8F>', 146),\n",
       " ('<0x90>', 147),\n",
       " ('<0x91>', 148),\n",
       " ('<0x92>', 149),\n",
       " ('<0x93>', 150),\n",
       " ('<0x94>', 151),\n",
       " ('<0x95>', 152),\n",
       " ('<0x96>', 153),\n",
       " ('<0x97>', 154),\n",
       " ('<0x98>', 155),\n",
       " ('<0x99>', 156),\n",
       " ('<0x9A>', 157),\n",
       " ('<0x9B>', 158),\n",
       " ('<0x9C>', 159),\n",
       " ('<0x9D>', 160),\n",
       " ('<0x9E>', 161),\n",
       " ('<0x9F>', 162),\n",
       " ('<0xA0>', 163),\n",
       " ('<0xA1>', 164),\n",
       " ('<0xA2>', 165),\n",
       " ('<0xA3>', 166),\n",
       " ('<0xA4>', 167),\n",
       " ('<0xA5>', 168),\n",
       " ('<0xA6>', 169),\n",
       " ('<0xA7>', 170),\n",
       " ('<0xA8>', 171),\n",
       " ('<0xA9>', 172),\n",
       " ('<0xAA>', 173),\n",
       " ('<0xAB>', 174),\n",
       " ('<0xAC>', 175),\n",
       " ('<0xAD>', 176),\n",
       " ('<0xAE>', 177),\n",
       " ('<0xAF>', 178),\n",
       " ('<0xB0>', 179),\n",
       " ('<0xB1>', 180),\n",
       " ('<0xB2>', 181),\n",
       " ('<0xB3>', 182),\n",
       " ('<0xB4>', 183),\n",
       " ('<0xB5>', 184),\n",
       " ('<0xB6>', 185),\n",
       " ('<0xB7>', 186),\n",
       " ('<0xB8>', 187),\n",
       " ('<0xB9>', 188),\n",
       " ('<0xBA>', 189),\n",
       " ('<0xBB>', 190),\n",
       " ('<0xBC>', 191),\n",
       " ('<0xBD>', 192),\n",
       " ('<0xBE>', 193),\n",
       " ('<0xBF>', 194),\n",
       " ('<0xC0>', 195),\n",
       " ('<0xC1>', 196),\n",
       " ('<0xC2>', 197),\n",
       " ('<0xC3>', 198),\n",
       " ('<0xC4>', 199),\n",
       " ('<0xC5>', 200),\n",
       " ('<0xC6>', 201),\n",
       " ('<0xC7>', 202),\n",
       " ('<0xC8>', 203),\n",
       " ('<0xC9>', 204),\n",
       " ('<0xCA>', 205),\n",
       " ('<0xCB>', 206),\n",
       " ('<0xCC>', 207),\n",
       " ('<0xCD>', 208),\n",
       " ('<0xCE>', 209),\n",
       " ('<0xCF>', 210),\n",
       " ('<0xD0>', 211),\n",
       " ('<0xD1>', 212),\n",
       " ('<0xD2>', 213),\n",
       " ('<0xD3>', 214),\n",
       " ('<0xD4>', 215),\n",
       " ('<0xD5>', 216),\n",
       " ('<0xD6>', 217),\n",
       " ('<0xD7>', 218),\n",
       " ('<0xD8>', 219),\n",
       " ('<0xD9>', 220),\n",
       " ('<0xDA>', 221),\n",
       " ('<0xDB>', 222),\n",
       " ('<0xDC>', 223),\n",
       " ('<0xDD>', 224),\n",
       " ('<0xDE>', 225),\n",
       " ('<0xDF>', 226),\n",
       " ('<0xE0>', 227),\n",
       " ('<0xE1>', 228),\n",
       " ('<0xE2>', 229),\n",
       " ('<0xE3>', 230),\n",
       " ('<0xE4>', 231),\n",
       " ('<0xE5>', 232),\n",
       " ('<0xE6>', 233),\n",
       " ('<0xE7>', 234),\n",
       " ('<0xE8>', 235),\n",
       " ('<0xE9>', 236),\n",
       " ('<0xEA>', 237),\n",
       " ('<0xEB>', 238),\n",
       " ('<0xEC>', 239),\n",
       " ('<0xED>', 240),\n",
       " ('<0xEE>', 241),\n",
       " ('<0xEF>', 242),\n",
       " ('<0xF0>', 243),\n",
       " ('<0xF1>', 244),\n",
       " ('<0xF2>', 245),\n",
       " ('<0xF3>', 246),\n",
       " ('<0xF4>', 247),\n",
       " ('<0xF5>', 248),\n",
       " ('<0xF6>', 249),\n",
       " ('<0xF7>', 250),\n",
       " ('<0xF8>', 251),\n",
       " ('<0xF9>', 252),\n",
       " ('<0xFA>', 253),\n",
       " ('<0xFB>', 254),\n",
       " ('<0xFC>', 255),\n",
       " ('<0xFD>', 256),\n",
       " ('<0xFE>', 257),\n",
       " ('<0xFF>', 258),\n",
       " ('▁', 259),\n",
       " ('.', 260),\n",
       " (',', 261),\n",
       " ('a', 262),\n",
       " ('s', 263),\n",
       " ('-', 264),\n",
       " ('e', 265),\n",
       " ('i', 266),\n",
       " (':', 267),\n",
       " ('o', 268),\n",
       " ('▁de', 269),\n",
       " ('t', 270),\n",
       " (')', 271),\n",
       " ('n', 272),\n",
       " ('u', 273),\n",
       " ('▁(', 274),\n",
       " ('/', 275),\n",
       " ('y', 276),\n",
       " (\"'\", 277),\n",
       " ('en', 278),\n",
       " ('и', 279),\n",
       " ('l', 280),\n",
       " ('▁in', 281),\n",
       " ('m', 282),\n",
       " ('▁la', 283),\n",
       " ('com', 284),\n",
       " ('d', 285),\n",
       " ('r', 286),\n",
       " ('▁the', 287),\n",
       " ('▁to', 288),\n",
       " ('▁en', 289),\n",
       " ('_', 290),\n",
       " ('?', 291),\n",
       " ('、', 292),\n",
       " ('’', 293),\n",
       " ('▁na', 294),\n",
       " ('er', 295),\n",
       " (';', 296),\n",
       " ('c', 297),\n",
       " ('▁A', 298),\n",
       " ('es', 299),\n",
       " ('▁v', 300),\n",
       " ('▁di', 301),\n",
       " ('...', 302),\n",
       " ('▁se', 303),\n",
       " ('▁of', 304),\n",
       " ('▁and', 305),\n",
       " ('。', 306),\n",
       " ('▁|', 307),\n",
       " ('а', 308),\n",
       " ('!', 309),\n",
       " ('▁на', 310),\n",
       " ('\"', 311),\n",
       " ('(', 312),\n",
       " ('▁\"', 313),\n",
       " ('k', 314),\n",
       " ('▁в', 315),\n",
       " ('b', 316),\n",
       " ('▁c', 317),\n",
       " ('g', 318),\n",
       " ('▁que', 319),\n",
       " ('▁S', 320),\n",
       " ('an', 321),\n",
       " ('▁–', 322),\n",
       " ('▁www', 323),\n",
       " ('е', 324),\n",
       " ('p', 325),\n",
       " ('▁m', 326),\n",
       " ('▁sa', 327),\n",
       " ('3', 328),\n",
       " ('x', 329),\n",
       " ('▁b', 330),\n",
       " ('▁d', 331),\n",
       " ('▁for', 332),\n",
       " ('▁1', 333),\n",
       " ('h', 334),\n",
       " ('▁un', 335),\n",
       " ('▁I', 336),\n",
       " ('os', 337),\n",
       " ('2', 338),\n",
       " ('▁is', 339),\n",
       " ('▁le', 340),\n",
       " ('▁و', 341),\n",
       " ('▁do', 342),\n",
       " ('،', 343),\n",
       " ('▁at', 344),\n",
       " ('ed', 345),\n",
       " ('te', 346),\n",
       " ('ing', 347),\n",
       " ('in', 348),\n",
       " ('=', 349),\n",
       " ('▁da', 350),\n",
       " ('▁on', 351),\n",
       " ('▁M', 352),\n",
       " ('1', 353),\n",
       " ('у', 354),\n",
       " ('▁đ', 355),\n",
       " ('▁2', 356),\n",
       " ('A', 357),\n",
       " ('as', 358),\n",
       " ('▁“', 359),\n",
       " ('z', 360),\n",
       " ('é', 361),\n",
       " ('▁el', 362),\n",
       " ('▁P', 363),\n",
       " ('▁B', 364),\n",
       " ('”', 365),\n",
       " ('▁T', 366),\n",
       " ('f', 367),\n",
       " ('de', 368),\n",
       " ('à', 369),\n",
       " ('ng', 370),\n",
       " ('▁C', 371),\n",
       " ('ar', 372),\n",
       " ('▁og', 373),\n",
       " ('▁за', 374),\n",
       " ('▁no', 375),\n",
       " ('ه', 376),\n",
       " ('na', 377),\n",
       " ('।', 378),\n",
       " ('v', 379),\n",
       " ('re', 380),\n",
       " ('▁3', 381),\n",
       " ('▁h', 382),\n",
       " ('▁et', 383),\n",
       " ('▁je', 384),\n",
       " ('j', 385),\n",
       " ('▁il', 386),\n",
       " ('▁#', 387),\n",
       " ('▁с', 388),\n",
       " ('і', 389),\n",
       " ('▁be', 390),\n",
       " ('://', 391),\n",
       " ('▁2018', 392),\n",
       " ('▁per', 393),\n",
       " ('▁th', 394),\n",
       " ('▁si', 395),\n",
       " ('я', 396),\n",
       " ('▁z', 397),\n",
       " ('▁die', 398),\n",
       " ('S', 399),\n",
       " ('▁te', 400),\n",
       " ('▁не', 401),\n",
       " ('▁ال', 402),\n",
       " ('D', 403),\n",
       " ('▁«', 404),\n",
       " ('ne', 405),\n",
       " ('ی', 406),\n",
       " ('da', 407),\n",
       " ('▁k', 408),\n",
       " ('|', 409),\n",
       " ('4', 410),\n",
       " ('о', 411),\n",
       " ('▁K', 412),\n",
       " ('▁du', 413),\n",
       " ('▁w', 414),\n",
       " ('▁E', 415),\n",
       " ('▁me', 416),\n",
       " ('is', 417),\n",
       " ('▁are', 418),\n",
       " ('▁4', 419),\n",
       " ('í', 420),\n",
       " ('▁p', 421),\n",
       " ('ta', 422),\n",
       " ('の', 423),\n",
       " ('C', 424),\n",
       " ('▁по', 425),\n",
       " ('▁del', 426),\n",
       " ('▁ka', 427),\n",
       " ('5', 428),\n",
       " ('et', 429),\n",
       " ('▁5', 430),\n",
       " ('▁D', 431),\n",
       " ('▁ja', 432),\n",
       " ('ы', 433),\n",
       " ('▁V', 434),\n",
       " ('▁para', 435),\n",
       " ('»', 436),\n",
       " ('\",\"', 437),\n",
       " ('us', 438),\n",
       " (']', 439),\n",
       " ('▁al', 440),\n",
       " ('▁N', 441),\n",
       " ('▁der', 442),\n",
       " ('▁O', 443),\n",
       " ('on', 444),\n",
       " ('ة', 445),\n",
       " ('▁да', 446),\n",
       " ('▁H', 447),\n",
       " ('▁ne', 448),\n",
       " ('8', 449),\n",
       " ('▁con', 450),\n",
       " ('6', 451),\n",
       " ('B', 452),\n",
       " ('▁er', 453),\n",
       " ('ul', 454),\n",
       " ('▁by', 455),\n",
       " ('▁у', 456),\n",
       " ('▁yang', 457),\n",
       " ('▁L', 458),\n",
       " ('▁De', 459),\n",
       " ('0', 460),\n",
       " ('▁an', 461),\n",
       " ('ja', 462),\n",
       " ('\\xad', 463),\n",
       " ('▁van', 464),\n",
       " ('▁ה', 465),\n",
       " ('▁za', 466),\n",
       " ('】【', 467),\n",
       " ('le', 468),\n",
       " ('▁dan', 469),\n",
       " ('em', 470),\n",
       " ('á', 471),\n",
       " ('▁und', 472),\n",
       " ('al', 473),\n",
       " ('è', 474),\n",
       " ('▁10', 475),\n",
       " ('to', 476),\n",
       " ('ي', 477),\n",
       " ('E', 478),\n",
       " ('ka', 479),\n",
       " ('▁...', 480),\n",
       " ('w', 481),\n",
       " ('▁på', 482),\n",
       " (').', 483),\n",
       " ('ly', 484),\n",
       " ('▁po', 485),\n",
       " ('▁The', 486),\n",
       " ('7', 487),\n",
       " ('\":\"', 488),\n",
       " ('▁G', 489),\n",
       " ('T', 490),\n",
       " ('▁[', 491),\n",
       " ('la', 492),\n",
       " ('的', 493),\n",
       " ('li', 494),\n",
       " ('9', 495),\n",
       " ('▁ma', 496),\n",
       " ('▁0', 497),\n",
       " ('▁des', 498),\n",
       " ('▁med', 499),\n",
       " ('▁til', 500),\n",
       " ('▁La', 501),\n",
       " ('kan', 502),\n",
       " ('it', 503),\n",
       " ('▁ki', 504),\n",
       " ('no', 505),\n",
       " ('),', 506),\n",
       " ('м', 507),\n",
       " ('َ', 508),\n",
       " ('▁در', 509),\n",
       " ('▁so', 510),\n",
       " ('M', 511),\n",
       " ('▁som', 512),\n",
       " ('▁ke', 513),\n",
       " ('▁with', 514),\n",
       " ('▁F', 515),\n",
       " ('ni', 516),\n",
       " ('▁su', 517),\n",
       " ('▁και', 518),\n",
       " ('▁por', 519),\n",
       " ('▁les', 520),\n",
       " ('▁you', 521),\n",
       " ('si', 522),\n",
       " ('at', 523),\n",
       " ('ti', 524),\n",
       " ('id', 525),\n",
       " ('▁av', 526),\n",
       " ('▁as', 527),\n",
       " ('▁ya', 528),\n",
       " ('▁ve', 529),\n",
       " ('▁den', 530),\n",
       " ('▁R', 531),\n",
       " ('▁ב', 532),\n",
       " ('▁that', 533),\n",
       " ('▁tr', 534),\n",
       " ('は', 535),\n",
       " ('が', 536),\n",
       " ('do', 537),\n",
       " ('N', 538),\n",
       " ('ia', 539),\n",
       " ('\\\\', 540),\n",
       " ('ce', 541),\n",
       " ('▁om', 542),\n",
       " ('й', 543),\n",
       " ('▁се', 544),\n",
       " ('F', 545),\n",
       " ('&', 546),\n",
       " ('L', 547),\n",
       " ('▁م', 548),\n",
       " ('▁&', 549),\n",
       " ('▁د', 550),\n",
       " ('▁det', 551),\n",
       " ('▁от', 552),\n",
       " ('ó', 553),\n",
       " ('▁به', 554),\n",
       " ('▁pa', 555),\n",
       " ('▁من', 556),\n",
       " ('K', 557),\n",
       " ('на', 558),\n",
       " ('P', 559),\n",
       " ('▁ha', 560),\n",
       " ('V', 561),\n",
       " ('▁ch', 562),\n",
       " ('▁In', 563),\n",
       " ('▁W', 564),\n",
       " ('▁„', 565),\n",
       " ('I', 566),\n",
       " ('▁var', 567),\n",
       " ('▁ni', 568),\n",
       " ('se', 569),\n",
       " ('▁6', 570),\n",
       " ('ra', 571),\n",
       " ('ل', 572),\n",
       " ('▁una', 573),\n",
       " ('を', 574),\n",
       " ('▁في', 575),\n",
       " ('▁ta', 576),\n",
       " ('▁http', 577),\n",
       " ('COM', 578),\n",
       " ('am', 579),\n",
       " ('ה', 580),\n",
       " ('▁U', 581),\n",
       " ('R', 582),\n",
       " ('▁з', 583),\n",
       " ('▁re', 584),\n",
       " ('▁op', 585),\n",
       " ('ن', 586),\n",
       " ('т', 587),\n",
       " ('▁har', 588),\n",
       " ('ο', 589),\n",
       " ('H', 590),\n",
       " ('“', 591),\n",
       " ('ek', 592),\n",
       " ('▁ag', 593),\n",
       " ('▁ng', 594),\n",
       " ('▁los', 595),\n",
       " ('{', 596),\n",
       " ('▁och', 597),\n",
       " ('▁2017', 598),\n",
       " ('▁WWW', 599),\n",
       " ('に', 600),\n",
       " ('▁ku', 601),\n",
       " ('ir', 602),\n",
       " ('▁pe', 603),\n",
       " ('un', 604),\n",
       " ('х', 605),\n",
       " ('um', 606),\n",
       " ('▁2019', 607),\n",
       " ('je', 608),\n",
       " ('▁it', 609),\n",
       " ('▁до', 610),\n",
       " ('을', 611),\n",
       " ('ʻ', 612),\n",
       " ('www', 613),\n",
       " ('▁ب', 614),\n",
       " ('▁li', 615),\n",
       " ('но', 616),\n",
       " ('▁7', 617),\n",
       " ('▁»', 618),\n",
       " ('▁ir', 619),\n",
       " ('▁kan', 620),\n",
       " ('G', 621),\n",
       " ('▁het', 622),\n",
       " ('▁ho', 623),\n",
       " ('▁par', 624),\n",
       " ('▁vi', 625),\n",
       " ('・', 626),\n",
       " ('で', 627),\n",
       " ('▁20', 628),\n",
       " ('▁të', 629),\n",
       " ('▁8', 630),\n",
       " ('▁or', 631),\n",
       " ('ا', 632),\n",
       " ('م', 633),\n",
       " ('ie', 634),\n",
       " ('▁В', 635),\n",
       " ('ت', 636),\n",
       " ('ом', 637),\n",
       " ('W', 638),\n",
       " ('▁was', 639),\n",
       " ('την', 640),\n",
       " ('▁के', 641),\n",
       " ('▁En', 642),\n",
       " ('▁af', 643),\n",
       " ('▁12', 644),\n",
       " ('me', 645),\n",
       " ('O', 646),\n",
       " ('nya', 647),\n",
       " ('ma', 648),\n",
       " ('의', 649),\n",
       " ('ki', 650),\n",
       " ('▁cu', 651),\n",
       " ('μ', 652),\n",
       " ('▁No', 653),\n",
       " ('▁2016', 654),\n",
       " ('▁es', 655),\n",
       " ('▁een', 656),\n",
       " ('ки', 657),\n",
       " ('▁mi', 658),\n",
       " ('Ð', 659),\n",
       " ('10', 660),\n",
       " ('▁—', 661),\n",
       " ('ku', 662),\n",
       " ('\":', 663),\n",
       " ('▁J', 664),\n",
       " ('px', 665),\n",
       " ('일', 666),\n",
       " ('▁ל', 667),\n",
       " ('ни', 668),\n",
       " ('>', 669),\n",
       " ('▁15', 670),\n",
       " ('▁‘', 671),\n",
       " ('▁ver', 672),\n",
       " ('▁um', 673),\n",
       " ('▁man', 674),\n",
       " ('▁ko', 675),\n",
       " ('+', 676),\n",
       " ('▁nh', 677),\n",
       " ('η', 678),\n",
       " ('ка', 679),\n",
       " ('ny', 680),\n",
       " ('α', 681),\n",
       " ('▁od', 682),\n",
       " ('▁wa', 683),\n",
       " ('▁ge', 684),\n",
       " ('ов', 685),\n",
       " ('н', 686),\n",
       " ('ten', 687),\n",
       " ('▁С', 688),\n",
       " ('▁מ', 689),\n",
       " ('▁ph', 690),\n",
       " ('▁>', 691),\n",
       " ('▁men', 692),\n",
       " ('▁ber', 693),\n",
       " ('▁του', 694),\n",
       " ('▁از', 695),\n",
       " ('il', 696),\n",
       " ('ch', 697),\n",
       " ('▁bir', 698),\n",
       " ('▁το', 699),\n",
       " ('▁να', 700),\n",
       " ('el', 701),\n",
       " ('▁from', 702),\n",
       " ('▁nu', 703),\n",
       " ('ko', 704),\n",
       " ('st', 705),\n",
       " ('ë', 706),\n",
       " ('▁lo', 707),\n",
       " ('ủ', 708),\n",
       " ('▁az', 709),\n",
       " ('▁dem', 710),\n",
       " ('mi', 711),\n",
       " ('▁va', 712),\n",
       " ('▁att', 713),\n",
       " ('▁this', 714),\n",
       " ('ur', 715),\n",
       " ('▁nie', 716),\n",
       " ('#', 717),\n",
       " ('▁gi', 718),\n",
       " ('▁tu', 719),\n",
       " ('di', 720),\n",
       " ('å', 721),\n",
       " ('ات', 722),\n",
       " ('or', 723),\n",
       " ('▁em', 724),\n",
       " ('と', 725),\n",
       " ('ת', 726),\n",
       " ('▁Na', 727),\n",
       " ('▁am', 728),\n",
       " ('▁из', 729),\n",
       " ('▁11', 730),\n",
       " ('▁pro', 731),\n",
       " ('▁în', 732),\n",
       " ('▁30', 733),\n",
       " ('▁che', 734),\n",
       " ('для', 735),\n",
       " ('▁Z', 736),\n",
       " ('ru', 737),\n",
       " ('▁can', 738),\n",
       " ('ya', 739),\n",
       " ('▁ang', 740),\n",
       " ('ai', 741),\n",
       " ('▁f', 742),\n",
       " ('ga', 743),\n",
       " ('▁+', 744),\n",
       " ('za', 745),\n",
       " ('▁Se', 746),\n",
       " ('이', 747),\n",
       " ('ю', 748),\n",
       " ('▁mit', 749),\n",
       " ('ca', 750),\n",
       " ('▁all', 751),\n",
       " ('▁של', 752),\n",
       " ('ke', 753),\n",
       " ('\",', 754),\n",
       " ('°', 755),\n",
       " ('▁tak', 756),\n",
       " ('ने', 757),\n",
       " ('▁bu', 758),\n",
       " ('▁bo', 759),\n",
       " ('▁zu', 760),\n",
       " ('ą', 761),\n",
       " ('ή', 762),\n",
       " ('▁pour', 763),\n",
       " ('▁Le', 764),\n",
       " ('[', 765),\n",
       " ('▁ت', 766),\n",
       " ('▁ter', 767),\n",
       " ('▁با', 768),\n",
       " ('ci', 769),\n",
       " ('▁és', 770),\n",
       " ('co', 771),\n",
       " ('▁your', 772),\n",
       " ('om', 773),\n",
       " ('▁9', 774),\n",
       " ('▁کے', 775),\n",
       " ('▁not', 776),\n",
       " ('их', 777),\n",
       " ('▁к', 778),\n",
       " ('▁din', 779),\n",
       " ('im', 780),\n",
       " ('q', 781),\n",
       " ('ă', 782),\n",
       " ('▁have', 783),\n",
       " ('▁mai', 784),\n",
       " ('▁{', 785),\n",
       " ('▁pre', 786),\n",
       " ('▁we', 787),\n",
       " ('▁Re', 788),\n",
       " ('▁El', 789),\n",
       " ('▁he', 790),\n",
       " ('ς', 791),\n",
       " ('▁•', 792),\n",
       " ('và', 793),\n",
       " ('Y', 794),\n",
       " ('▁von', 795),\n",
       " ('▁là', 796),\n",
       " ('ې', 797),\n",
       " ('▁ar', 798),\n",
       " ('▁16', 799),\n",
       " ('▁las', 800),\n",
       " ('ú', 801),\n",
       " ('app', 802),\n",
       " ('▁کی', 803),\n",
       " ('▁au', 804),\n",
       " ('▁при', 805),\n",
       " ('U', 806),\n",
       " ('th', 807),\n",
       " ('▁}', 808),\n",
       " ('▁2014', 809),\n",
       " ('▁ba', 810),\n",
       " ('be', 811),\n",
       " ('▁18', 812),\n",
       " ('X', 813),\n",
       " ('▁2015', 814),\n",
       " ('▁2013', 815),\n",
       " ('▁(1)', 816),\n",
       " ('ой', 817),\n",
       " ('▁14', 818),\n",
       " ('▁qu', 819),\n",
       " ('ِ', 820),\n",
       " ('ha', 821),\n",
       " ('▁می', 822),\n",
       " ('man', 823),\n",
       " ('▁met', 824),\n",
       " ('are', 825),\n",
       " ('▁nga', 826),\n",
       " ('▁das', 827),\n",
       " ('▁της', 828),\n",
       " ('‘', 829),\n",
       " ('▁है', 830),\n",
       " ('ية', 831),\n",
       " ('то', 832),\n",
       " ('ь', 833),\n",
       " ('va', 834),\n",
       " ('ba', 835),\n",
       " ('】', 836),\n",
       " ('▁bi', 837),\n",
       " ('日', 838),\n",
       " ('한', 839),\n",
       " ('▁24', 840),\n",
       " ('ر', 841),\n",
       " ('ى', 842),\n",
       " ('▁est', 843),\n",
       " ('▁में', 844),\n",
       " ('lar', 845),\n",
       " ('▁2012', 846),\n",
       " ('▁dengan', 847),\n",
       " ('年', 848),\n",
       " ('▁13', 849),\n",
       " ('▁με', 850),\n",
       " ('▁untuk', 851),\n",
       " ('▁Y', 852),\n",
       " (');', 853),\n",
       " ('▁ini', 854),\n",
       " ('▁ש', 855),\n",
       " ('▁ist', 856),\n",
       " ('ve', 857),\n",
       " ('▁ا', 858),\n",
       " ('▁im', 859),\n",
       " ('this', 860),\n",
       " ('est', 861),\n",
       " ('▁online', 862),\n",
       " ('न', 863),\n",
       " ('▁А', 864),\n",
       " ('▁sur', 865),\n",
       " ('J', 866),\n",
       " ('▁У', 867),\n",
       " ('ך', 868),\n",
       " ('은', 869),\n",
       " ('ado', 870),\n",
       " ('▁ti', 871),\n",
       " ('ہ', 872),\n",
       " ('에', 873),\n",
       " ('ri', 874),\n",
       " ('▁för', 875),\n",
       " ('tu', 876),\n",
       " ('▁25', 877),\n",
       " ('lo', 878),\n",
       " ('」', 879),\n",
       " ('den', 880),\n",
       " ('%', 881),\n",
       " ('▁א', 882),\n",
       " ('د', 883),\n",
       " ('▁את', 884),\n",
       " ('▁có', 885),\n",
       " ('▁pas', 886),\n",
       " ('=\"', 887),\n",
       " ('▁ein', 888),\n",
       " ('ou', 889),\n",
       " ('▁mu', 890),\n",
       " ('月', 891),\n",
       " ('▁что', 892),\n",
       " ('ого', 893),\n",
       " ('*', 894),\n",
       " ('ի', 895),\n",
       " ('ים', 896),\n",
       " ('р', 897),\n",
       " ('▁will', 898),\n",
       " ('▁fa', 899),\n",
       " ('net', 900),\n",
       " ('▁για', 901),\n",
       " ('д', 902),\n",
       " ('ê', 903),\n",
       " ('▁*', 904),\n",
       " ('ُ', 905),\n",
       " ('ada', 906),\n",
       " ('▁qui', 907),\n",
       " ('ới', 908),\n",
       " ('г', 909),\n",
       " ('▁over', 910),\n",
       " ('▁17', 911),\n",
       " ('▁από', 912),\n",
       " ('ها', 913),\n",
       " (',\"', 914),\n",
       " ('ā', 915),\n",
       " ('▁را', 916),\n",
       " ('▁со', 917),\n",
       " ('та', 918),\n",
       " ('▁ser', 919),\n",
       " ('л', 920),\n",
       " ('que', 921),\n",
       " ('▁так', 922),\n",
       " ('▁про', 923),\n",
       " ('ể', 924),\n",
       " ('ok', 925),\n",
       " ('▁To', 926),\n",
       " ('▁σ', 927),\n",
       " ('▁და', 928),\n",
       " ('가', 929),\n",
       " ('ό', 930),\n",
       " ('ción', 931),\n",
       " ('ak', 932),\n",
       " ('ị', 933),\n",
       " ('▁که', 934),\n",
       " ('▁non', 935),\n",
       " ('ן', 936),\n",
       " ('▁је', 937),\n",
       " ('ro', 938),\n",
       " ('「', 939),\n",
       " ('ag', 940),\n",
       " ('ان', 941),\n",
       " ('على', 942),\n",
       " ('▁आ', 943),\n",
       " ('ите', 944),\n",
       " ('да', 945),\n",
       " ('с', 946),\n",
       " ('▁się', 947),\n",
       " ('▁€', 948),\n",
       " ('▁mo', 949),\n",
       " ('▁است', 950),\n",
       " ('▁·', 951),\n",
       " ('ý', 952),\n",
       " ('▁این', 953),\n",
       " ('Р', 954),\n",
       " ('▁if', 955),\n",
       " ('▁für', 956),\n",
       " ('не', 957),\n",
       " ('▁como', 958),\n",
       " ('▁X', 959),\n",
       " ('▁ca', 960),\n",
       " ('▁är', 961),\n",
       " ('ní', 962),\n",
       " ('▁19', 963),\n",
       " ('▁co', 964),\n",
       " ('▁כ', 965),\n",
       " ('▁100', 966),\n",
       " ('ere', 967),\n",
       " ('▁að', 968),\n",
       " ('wa', 969),\n",
       " ('▁cho', 970),\n",
       " ('▁voor', 971),\n",
       " ('▁2020', 972),\n",
       " ('▁میں', 973),\n",
       " ('و', 974),\n",
       " ('▁की', 975),\n",
       " ('ji', 976),\n",
       " ('▁Đ', 977),\n",
       " ('も', 978),\n",
       " ('▁pri', 979),\n",
       " ('▁este', 980),\n",
       " ('▁2011', 981),\n",
       " ('▁ce', 982),\n",
       " ('▁О', 983),\n",
       " ('▁է', 984),\n",
       " ('ik', 985),\n",
       " ('ት', 986),\n",
       " ('▁21', 987),\n",
       " ('는', 988),\n",
       " ('ку', 989),\n",
       " ('ж', 990),\n",
       " ('ے', 991),\n",
       " ('▁во', 992),\n",
       " ('ç', 993),\n",
       " ('ে', 994),\n",
       " ('п', 995),\n",
       " ('र', 996),\n",
       " ('Z', 997),\n",
       " ('▁од', 998),\n",
       " ('▁ob', 999),\n",
       " ...]"
      ]
     },
     "execution_count": 8,
     "metadata": {},
     "output_type": "execute_result"
    }
   ],
   "source": [
    "# print out list of tokens and their ids starting from 0\n",
    "# we see that utf8 is used to encode the tokens\n",
    "# since after 3 token then next 255 are bytes\n",
    "# and that it is a byte pair encoding algorithm\n",
    "sorted(tokenizer.vocab.items(), key=lambda x: x[1])"
   ]
  },
  {
   "cell_type": "markdown",
   "metadata": {},
   "source": [
    "loading the dataset"
   ]
  },
  {
   "cell_type": "code",
   "execution_count": 9,
   "metadata": {},
   "outputs": [
    {
     "data": {
      "application/vnd.jupyter.widget-view+json": {
       "model_id": "d5a425f1c58144d2946955f76efa709c",
       "version_major": 2,
       "version_minor": 0
      },
      "text/plain": [
       "Downloading readme:   0%|          | 0.00/13.2k [00:00<?, ?B/s]"
      ]
     },
     "metadata": {},
     "output_type": "display_data"
    },
    {
     "data": {
      "application/vnd.jupyter.widget-view+json": {
       "model_id": "ed0a900c3b6f472ab1c0c2bca6aa8dc1",
       "version_major": 2,
       "version_minor": 0
      },
      "text/plain": [
       "Downloading data files:   0%|          | 0/3 [00:00<?, ?it/s]"
      ]
     },
     "metadata": {},
     "output_type": "display_data"
    },
    {
     "data": {
      "application/vnd.jupyter.widget-view+json": {
       "model_id": "b5737fa87ae247c3a7e457f080d6fb39",
       "version_major": 2,
       "version_minor": 0
      },
      "text/plain": [
       "Downloading data:   0%|          | 0.00/31.2M [00:00<?, ?B/s]"
      ]
     },
     "metadata": {},
     "output_type": "display_data"
    },
    {
     "data": {
      "application/vnd.jupyter.widget-view+json": {
       "model_id": "d65b2b5a57914e0482ed85615f4523de",
       "version_major": 2,
       "version_minor": 0
      },
      "text/plain": [
       "Downloading data:   0%|          | 0.00/1.71M [00:00<?, ?B/s]"
      ]
     },
     "metadata": {},
     "output_type": "display_data"
    },
    {
     "data": {
      "application/vnd.jupyter.widget-view+json": {
       "model_id": "34b2551d48fd4d269397134456a9da63",
       "version_major": 2,
       "version_minor": 0
      },
      "text/plain": [
       "Downloading data:   0%|          | 0.00/1.79M [00:00<?, ?B/s]"
      ]
     },
     "metadata": {},
     "output_type": "display_data"
    },
    {
     "data": {
      "application/vnd.jupyter.widget-view+json": {
       "model_id": "ebf4adba4423410ab9fa3d738577ecad",
       "version_major": 2,
       "version_minor": 0
      },
      "text/plain": [
       "Extracting data files:   0%|          | 0/3 [00:00<?, ?it/s]"
      ]
     },
     "metadata": {},
     "output_type": "display_data"
    },
    {
     "data": {
      "application/vnd.jupyter.widget-view+json": {
       "model_id": "d96659fe5654460f91b82cdeaa961ccd",
       "version_major": 2,
       "version_minor": 0
      },
      "text/plain": [
       "Generating train split:   0%|          | 0/18088 [00:00<?, ? examples/s]"
      ]
     },
     "metadata": {},
     "output_type": "display_data"
    },
    {
     "data": {
      "application/vnd.jupyter.widget-view+json": {
       "model_id": "8728d30fa5e04f7b81c500acb71c9be4",
       "version_major": 2,
       "version_minor": 0
      },
      "text/plain": [
       "Generating validation split:   0%|          | 0/1000 [00:00<?, ? examples/s]"
      ]
     },
     "metadata": {},
     "output_type": "display_data"
    },
    {
     "data": {
      "application/vnd.jupyter.widget-view+json": {
       "model_id": "492dbfd086464241a59164fad0e6585b",
       "version_major": 2,
       "version_minor": 0
      },
      "text/plain": [
       "Generating test split:   0%|          | 0/1019 [00:00<?, ? examples/s]"
      ]
     },
     "metadata": {},
     "output_type": "display_data"
    }
   ],
   "source": [
    "# load dataset, asian language translation dataset\n",
    "# wanna look to find other datasets that coincide better with my language classifier\n",
    "# could probably use the flores dataset but only use specific languages so it doesnt fill my whole disk\n",
    "dataset = load_dataset('alt')"
   ]
  },
  {
   "cell_type": "code",
   "execution_count": 10,
   "metadata": {},
   "outputs": [],
   "source": [
    "# split the dataset into train validation and test\n",
    "train_dataset = dataset['train']\n",
    "validation_dataset = dataset['validation']\n",
    "test_dataset = dataset['test']"
   ]
  },
  {
   "cell_type": "code",
   "execution_count": 11,
   "metadata": {},
   "outputs": [
    {
     "data": {
      "text/plain": [
       "{'SNT.URLID': '80188',\n",
       " 'SNT.URLID.SNTID': '1',\n",
       " 'url': 'http://en.wikinews.org/wiki/2007_Rugby_World_Cup:_Italy_31_-_5_Portugal',\n",
       " 'translation': {'bg': 'ফ্রান্সের প্যারিসের পার্ক দি প্রিন্সেস-এ হওয়া ২০০৭-এর রাগবি বিশ্বকাপের পুল সি-তে ইটালি পর্তুগালকে ৩১-৫ গোলে হারিয়েছে।',\n",
       "  'en': 'Italy have defeated Portugal 31-5 in Pool C of the 2007 Rugby World Cup at Parc des Princes, Paris, France.',\n",
       "  'en_tok': 'Italy have defeated Portugal 31-5 in Pool C of the 2007 Rugby World Cup at Parc des Princes , Paris , France .',\n",
       "  'fil': 'Natalo ng Italya ang Portugal sa puntos na 31-5 sa Grupong C noong 2007 sa Pandaigdigang laro ng Ragbi sa Parc des Princes, Paris, France.',\n",
       "  'hi': '2007 में फ़्रांस, पेरिस के पार्क डेस प्रिंसेस में हुए रग्बी विश्व कप के पूल C में इटली ने पुर्तगाल को 31-5 से हराया।',\n",
       "  'id': 'Italia berhasil mengalahkan Portugal 31-5 di grup C dalam Piala Dunia Rugby 2007 di Parc des Princes, Paris, Perancis.',\n",
       "  'ja': 'フランスのパリ、パルク・デ・プランスで行われた2007年ラグビーワールドカップのプールCで、イタリアは31対5でポルトガルを下した。',\n",
       "  'khm': 'អ៊ីតាលីបានឈ្នះលើព័រទុយហ្គាល់ 31-5 ក្នុងប៉ូលCនៃពីធីប្រកួតពានរង្វាន់ពិភពលោកនៃកីឡាបាល់ឱបឆ្នាំ2007ដែលប្រព្រឹត្តនៅប៉ាសឌេសប្រីន ក្រុងប៉ារីស បារាំង។',\n",
       "  'lo': 'ອິຕາລີໄດ້ເສຍໃຫ້ປ໊ອກຕຸຍການ 31 ຕໍ່ 5 ໃນພູລ C ຂອງ ການແຂ່ງຂັນຣັກບີ້ລະດັບໂລກປີ 2007 ທີ່ ປາກເດແພຣັງ ປາຣີ ປະເທດຝຣັ່ງ.',\n",
       "  'ms': 'Itali telah mengalahkan Portugal 31-5 dalam Pool C pada Piala Dunia Ragbi 2007 di Parc des Princes, Paris, Perancis.',\n",
       "  'my': 'ပြင်သစ်နိုင်ငံ ပါရီမြို့ ပါ့ဒက်စ် ပရင့်စက် ၌ ၂၀၀၇ခုနှစ် ရပ်ဘီ ကမ္ဘာ့ ဖလား တွင် အီတလီ သည် ပေါ်တူဂီ ကို ၃၁-၅ ဂိုး ဖြင့် ရေကူးကန် စီ တွင် ရှုံးနိမ့်သွားပါသည် ။',\n",
       "  'th': 'อิตาลีได้เอาชนะโปรตุเกสด้วยคะแนน31ต่อ5 ในกลุ่มc ของการแข่งขันรักบี้เวิลด์คัพปี2007 ที่สนามปาร์กเดแพร็งส์ ที่กรุงปารีส ประเทศฝรั่งเศส',\n",
       "  'vi': 'Ý đã đánh bại Bồ Đào Nha với tỉ số 31-5 ở Bảng C Giải vô địch Rugby thế giới 2007 tại Parc des Princes, Pari, Pháp.',\n",
       "  'zh': '意大利在法国巴黎王子公园体育场举办的2007年橄榄球世界杯C组以31-5击败葡萄牙。'}}"
      ]
     },
     "execution_count": 11,
     "metadata": {},
     "output_type": "execute_result"
    }
   ],
   "source": [
    "# looking at the dataset\n",
    "train_dataset[0]"
   ]
  },
  {
   "cell_type": "code",
   "execution_count": 12,
   "metadata": {},
   "outputs": [
    {
     "data": {
      "text/plain": [
       "{'bg': 'ফ্রান্সের প্যারিসের পার্ক দি প্রিন্সেস-এ হওয়া ২০০৭-এর রাগবি বিশ্বকাপের পুল সি-তে ইটালি পর্তুগালকে ৩১-৫ গোলে হারিয়েছে।',\n",
       " 'en': 'Italy have defeated Portugal 31-5 in Pool C of the 2007 Rugby World Cup at Parc des Princes, Paris, France.',\n",
       " 'en_tok': 'Italy have defeated Portugal 31-5 in Pool C of the 2007 Rugby World Cup at Parc des Princes , Paris , France .',\n",
       " 'fil': 'Natalo ng Italya ang Portugal sa puntos na 31-5 sa Grupong C noong 2007 sa Pandaigdigang laro ng Ragbi sa Parc des Princes, Paris, France.',\n",
       " 'hi': '2007 में फ़्रांस, पेरिस के पार्क डेस प्रिंसेस में हुए रग्बी विश्व कप के पूल C में इटली ने पुर्तगाल को 31-5 से हराया।',\n",
       " 'id': 'Italia berhasil mengalahkan Portugal 31-5 di grup C dalam Piala Dunia Rugby 2007 di Parc des Princes, Paris, Perancis.',\n",
       " 'ja': 'フランスのパリ、パルク・デ・プランスで行われた2007年ラグビーワールドカップのプールCで、イタリアは31対5でポルトガルを下した。',\n",
       " 'khm': 'អ៊ីតាលីបានឈ្នះលើព័រទុយហ្គាល់ 31-5 ក្នុងប៉ូលCនៃពីធីប្រកួតពានរង្វាន់ពិភពលោកនៃកីឡាបាល់ឱបឆ្នាំ2007ដែលប្រព្រឹត្តនៅប៉ាសឌេសប្រីន ក្រុងប៉ារីស បារាំង។',\n",
       " 'lo': 'ອິຕາລີໄດ້ເສຍໃຫ້ປ໊ອກຕຸຍການ 31 ຕໍ່ 5 ໃນພູລ C ຂອງ ການແຂ່ງຂັນຣັກບີ້ລະດັບໂລກປີ 2007 ທີ່ ປາກເດແພຣັງ ປາຣີ ປະເທດຝຣັ່ງ.',\n",
       " 'ms': 'Itali telah mengalahkan Portugal 31-5 dalam Pool C pada Piala Dunia Ragbi 2007 di Parc des Princes, Paris, Perancis.',\n",
       " 'my': 'ပြင်သစ်နိုင်ငံ ပါရီမြို့ ပါ့ဒက်စ် ပရင့်စက် ၌ ၂၀၀၇ခုနှစ် ရပ်ဘီ ကမ္ဘာ့ ဖလား တွင် အီတလီ သည် ပေါ်တူဂီ ကို ၃၁-၅ ဂိုး ဖြင့် ရေကူးကန် စီ တွင် ရှုံးနိမ့်သွားပါသည် ။',\n",
       " 'th': 'อิตาลีได้เอาชนะโปรตุเกสด้วยคะแนน31ต่อ5 ในกลุ่มc ของการแข่งขันรักบี้เวิลด์คัพปี2007 ที่สนามปาร์กเดแพร็งส์ ที่กรุงปารีส ประเทศฝรั่งเศส',\n",
       " 'vi': 'Ý đã đánh bại Bồ Đào Nha với tỉ số 31-5 ở Bảng C Giải vô địch Rugby thế giới 2007 tại Parc des Princes, Pari, Pháp.',\n",
       " 'zh': '意大利在法国巴黎王子公园体育场举办的2007年橄榄球世界杯C组以31-5击败葡萄牙。'}"
      ]
     },
     "execution_count": 12,
     "metadata": {},
     "output_type": "execute_result"
    }
   ],
   "source": [
    "# just a dictionary of the translation no misc data\n",
    "train_dataset[0]['translation']"
   ]
  },
  {
   "cell_type": "code",
   "execution_count": 13,
   "metadata": {},
   "outputs": [
    {
     "data": {
      "text/plain": [
       "Embedding(250105, 512)"
      ]
     },
     "execution_count": 13,
     "metadata": {},
     "output_type": "execute_result"
    }
   ],
   "source": [
    "# add language token mapping to the tokenizer\n",
    "LANG_TOKEN_MAPPING = {\n",
    "    'en' : '<en>',\n",
    "    'fil' : '<fil>',\n",
    "    'hi' : '<hi>',\n",
    "    'id' : '<id>',\n",
    "    'ja' : '<ja>', \n",
    "}\n",
    "# create a dict of the dict\n",
    "special_tokens = { 'additional_special_tokens': list(LANG_TOKEN_MAPPING.values()) }\n",
    "# add special tokens to the tokenizer\n",
    "tokenizer.add_special_tokens(special_tokens)\n",
    "# resize the token embeddings layer to correct size\n",
    "model.resize_token_embeddings(len(tokenizer))"
   ]
  },
  {
   "cell_type": "code",
   "execution_count": 14,
   "metadata": {},
   "outputs": [
    {
     "name": "stdout",
     "output_type": "stream",
     "text": [
      "tensor([[  714,   339,   259,   262,   259, 98923,   305,   609,   339,   259,\n",
      "          4940,   259, 26866,  2421,   609,  3609,   390,   510,   787,   738,\n",
      "          4245,  1350,   259,  3245,     1,     0,     0,     0,     0,     0,\n",
      "             0,     0,     0,     0,     0,     0,     0,     0,     0,     0,\n",
      "             0,     0,     0,     0,     0,     0,     0,     0,     0,     0]])\n"
     ]
    }
   ],
   "source": [
    "# padding test\n",
    "max_seq_length = 50\n",
    "input_str = 'this is a sentence and it is really longer than it should be so we can check out padding'\n",
    "# tokenize the sentence with padding\n",
    "token_ids = tokenizer.encode(\n",
    "    input_str, return_tensors='pt', padding='max_length', \n",
    "    truncation=True, max_length=max_seq_length\n",
    ")\n",
    "# show the tokenized sentence\n",
    "print(token_ids)"
   ]
  },
  {
   "cell_type": "code",
   "execution_count": 15,
   "metadata": {},
   "outputs": [],
   "source": [
    "# tokenizes and numericalizes input string\n",
    "def encode_input_str(text, target_lang, tokenizer, seq_len,\n",
    "                     lang_token_map=LANG_TOKEN_MAPPING):\n",
    "  target_lang_token = lang_token_map[target_lang]\n",
    "\n",
    "  # Tokenize and add special tokens\n",
    "  input_ids = tokenizer.encode(\n",
    "      text = target_lang_token + text,\n",
    "      return_tensors = 'pt',\n",
    "      padding = 'max_length',\n",
    "      truncation = True,\n",
    "      max_length = seq_len)\n",
    "\n",
    "  return input_ids[0]\n",
    "\n",
    "# tokenizes and numericalizes target string\n",
    "def encode_target_str(text, tokenizer, seq_len):\n",
    "  token_ids = tokenizer.encode(\n",
    "      text = text,\n",
    "      return_tensors = 'pt',\n",
    "      padding = 'max_length',\n",
    "      truncation = True,\n",
    "      max_length = seq_len)\n",
    "  \n",
    "  return token_ids[0]\n",
    "\n",
    "# improvement would be do this for all permutations of languages \n",
    "# or at least more than once per example\n",
    "def format_translation_data(translations, lang_token_map,\n",
    "                            tokenizer, seq_length=20):\n",
    "  # choose 2 random languages for i/o\n",
    "  langs = list(lang_token_map.keys())\n",
    "  input_lang, target_lang = np.random.choice(langs, size=2, replace=False)\n",
    "  input_text = translations[input_lang]\n",
    "  target_text = translations[target_lang]\n",
    "  \n",
    "  if input_text is None or target_text is None:\n",
    "    return None, None\n",
    "  \n",
    "  input_ids = encode_input_str(input_text, target_lang, tokenizer, seq_length, \n",
    "                                lang_token_map)\n",
    "  \n",
    "  target_ids = encode_target_str(target_text, tokenizer, seq_length)\n",
    "  \n",
    "  return input_ids, target_ids\n",
    "\n",
    "\n",
    "def transform_batch(batch, lang_token_map, tokenizer, seq_length=20):\n",
    "  input_ids = []\n",
    "  target_ids = []\n",
    "  \n",
    "  for example in batch['translation']:\n",
    "      input_id, target_id = format_translation_data(example, lang_token_map, tokenizer)\n",
    "      \n",
    "      if input_id is not None:\n",
    "          input_ids.append(input_id)\n",
    "          target_ids.append(target_id)\n",
    "  \n",
    "  input_ids = torch.stack(input_ids).cuda()\n",
    "  target_ids = torch.stack(target_ids).cuda()\n",
    "  \n",
    "  return input_ids, target_ids\n",
    "\n",
    "# generator function\n",
    "def get_data_generator(dataset, lang_token_map, tokenizer, batch_size=32):\n",
    "  dataset = dataset.shuffle()\n",
    "  \n",
    "  for i in range(0, len(dataset), batch_size):\n",
    "      batch = dataset[i:i+batch_size]\n",
    "      yield transform_batch(batch, lang_token_map, tokenizer)\n",
    "\n",
    "def get_dataloader(dataset, lang_token_map, tokenizer, batch_size=32):\n",
    "  dataset = dataset.shuffle()\n",
    "  dataset = dataset.map(lambda batch: transform_batch(batch, lang_token_map, tokenizer), batched=True)\n",
    "  dataset.set_format(type='torch', columns=['input_ids', 'target_ids'])\n",
    "  data_loader = torch.utils.data.DataLoader(dataset, batch_size=batch_size)\n",
    "  \n",
    "  return data_loader\n",
    "\n"
   ]
  },
  {
   "cell_type": "code",
   "execution_count": 20,
   "metadata": {},
   "outputs": [],
   "source": [
    "# similar to above but for all permutations of languages\n",
    "def get_all_translation_data(translations, lang_token_map,\n",
    "                            tokenizer, seq_length=20):\n",
    "  input_ids = []\n",
    "  target_ids = []\n",
    "  \n",
    "  langs = list(lang_token_map.keys())\n",
    "  for input_lang, target_lang in itertools.permutations(langs, 2):\n",
    "    input_text = translations[input_lang]\n",
    "    target_text = translations[target_lang]\n",
    "    \n",
    "    if input_text is None or target_text is None:\n",
    "        return None, None\n",
    "    \n",
    "    input_ids.append(encode_input_str(input_text, target_lang, tokenizer, seq_length, \n",
    "                                    lang_token_map))\n",
    "    \n",
    "    target_ids.append(encode_target_str(target_text, tokenizer, seq_length))\n",
    "  \n",
    "  return input_ids, target_ids\n",
    "\n",
    "# generator function\n",
    "def get_full_dataloader(dataset, lang_token_map, tokenizer, batch_size=32, num_workers=8):\n",
    "    # get translations from the dataset\n",
    "    dataset = train_dataset['translation']\n",
    "    # intialize array\n",
    "    data = []\n",
    "    for example in dataset:\n",
    "        # get translations for all permuations of languages\n",
    "        input_id, target_id = get_all_translation_data(example, lang_token_map, tokenizer)\n",
    "        # case where nothing is returned\n",
    "        if input_id is None or target_id is None:\n",
    "            continue\n",
    "        # add the list of target and inputs \n",
    "        list_of_dicts = list(map(lambda x, y: {'input_ids': x, 'target_ids': y}, input_id, target_id))\n",
    "        data = data + list_of_dicts\n",
    "    # load dataset into a dataloader\n",
    "    loader = torch.utils.data.DataLoader(data, batch_size=batch_size, shuffle=True, num_workers=num_workers)\n",
    "    # return the dataloader\n",
    "    return loader\n"
   ]
  },
  {
   "cell_type": "code",
   "execution_count": 17,
   "metadata": {},
   "outputs": [],
   "source": [
    "# get generator for all permutations of languages for each example\n",
    "data_gen = get_full_data_generator(train_dataset, LANG_TOKEN_MAPPING, tokenizer)"
   ]
  },
  {
   "cell_type": "code",
   "execution_count": 18,
   "metadata": {},
   "outputs": [
    {
     "name": "stdout",
     "output_type": "stream",
     "text": [
      "torch.Size([20, 20]) torch.Size([20, 20])\n"
     ]
    }
   ],
   "source": [
    "# get first batch and check the shape\n",
    "batch = next(data_gen)\n",
    "print(batch[0].shape, batch[1].shape)"
   ]
  },
  {
   "cell_type": "code",
   "execution_count": 19,
   "metadata": {},
   "outputs": [
    {
     "name": "stdout",
     "output_type": "stream",
     "text": [
      "<hi> ▁Natal o ▁ng ▁Italy a ▁ang ▁Portugal ▁sa ▁punto s ▁na ▁3 1-5 ▁sa ▁ Grupo ng ▁C </s>\n",
      "▁2007 ▁में ▁फ़ ्रा ंस , ▁पे रिस ▁के ▁पार् क ▁डे स ▁ प्रि ंस ेस ▁में ▁हु </s>\n"
     ]
    }
   ],
   "source": [
    "# convert the translation data of first data point to input and output tensors\n",
    "input_ids, output_ids = format_translation_data(train_dataset[0]['translation'], LANG_TOKEN_MAPPING, tokenizer)\n",
    "# print out decoded input and output tensors\n",
    "print(' '.join(tokenizer.convert_ids_to_tokens(input_ids)))\n",
    "print(' '.join(tokenizer.convert_ids_to_tokens(output_ids)))\n"
   ]
  },
  {
   "cell_type": "code",
   "execution_count": 20,
   "metadata": {},
   "outputs": [
    {
     "name": "stdout",
     "output_type": "stream",
     "text": [
      "torch.Size([8, 20])\n",
      "2\n"
     ]
    }
   ],
   "source": [
    "data_gen = get_data_generator(train_dataset, LANG_TOKEN_MAPPING, tokenizer, 8)\n",
    "batch = next(data_gen)\n",
    "print(batch[0].shape)\n",
    "print(len(batch))"
   ]
  },
  {
   "cell_type": "code",
   "execution_count": 23,
   "metadata": {},
   "outputs": [],
   "source": [
    "# Hyperparameters\n",
    "EPOCHS = 5\n",
    "batch_size = 64\n",
    "learning_rate = 5e-3\n",
    "n_batches = np.ceil(len(train_dataset) / batch_size)\n",
    "total_steps = n_batches * EPOCHS\n",
    "print_freq = total_steps / 100\n",
    "checkpoint_freq = total_steps / 10\n",
    "n_warmup_steps = int(0.01 * total_steps)"
   ]
  },
  {
   "cell_type": "code",
   "execution_count": 24,
   "metadata": {},
   "outputs": [
    {
     "name": "stderr",
     "output_type": "stream",
     "text": [
      "/usr/local/lib/python3.11/dist-packages/transformers/optimization.py:411: FutureWarning: This implementation of AdamW is deprecated and will be removed in a future version. Use the PyTorch implementation torch.optim.AdamW instead, or set `no_deprecation_warning=True` to disable this warning\n",
      "  warnings.warn(\n"
     ]
    }
   ],
   "source": [
    "# Optimizer and scheduler\n",
    "optimizer = AdamW(model.parameters(), lr=learning_rate)\n",
    "schedular = get_linear_schedule_with_warmup(optimizer, n_warmup_steps, total_steps)"
   ]
  },
  {
   "cell_type": "code",
   "execution_count": 25,
   "metadata": {},
   "outputs": [],
   "source": [
    "def eval_model(model, gdataset, max_iters=8):\n",
    "  test_generator = get_data_generator(gdataset, LANG_TOKEN_MAPPING,\n",
    "                                      tokenizer, batch_size)\n",
    "  eval_losses = []\n",
    "  for i, (input_batch, label_batch) in enumerate(test_generator):\n",
    "    if i >= max_iters:\n",
    "      break\n",
    "\n",
    "    model_out = model.forward(\n",
    "        input_ids = input_batch,\n",
    "        labels = label_batch)\n",
    "    eval_losses.append(model_out.loss.item())\n",
    "\n",
    "  return np.mean(eval_losses)"
   ]
  },
  {
   "cell_type": "code",
   "execution_count": 27,
   "metadata": {},
   "outputs": [
    {
     "name": "stderr",
     "output_type": "stream",
     "text": [
      "huggingface/tokenizers: The current process just got forked, after parallelism has already been used. Disabling parallelism to avoid deadlocks...\n",
      "To disable this warning, you can either:\n",
      "\t- Avoid using `tokenizers` before the fork if possible\n",
      "\t- Explicitly set the environment variable TOKENIZERS_PARALLELISM=(true | false)\n",
      "huggingface/tokenizers: The current process just got forked, after parallelism has already been used. Disabling parallelism to avoid deadlocks...\n",
      "To disable this warning, you can either:\n",
      "\t- Avoid using `tokenizers` before the fork if possible\n",
      "\t- Explicitly set the environment variable TOKENIZERS_PARALLELISM=(true | false)\n",
      "huggingface/tokenizers: The current process just got forked, after parallelism has already been used. Disabling parallelism to avoid deadlocks...\n",
      "To disable this warning, you can either:\n",
      "\t- Avoid using `tokenizers` before the fork if possible\n",
      "\t- Explicitly set the environment variable TOKENIZERS_PARALLELISM=(true | false)\n",
      "huggingface/tokenizers: The current process just got forked, after parallelism has already been used. Disabling parallelism to avoid deadlocks...\n",
      "To disable this warning, you can either:\n",
      "\t- Avoid using `tokenizers` before the fork if possible\n",
      "\t- Explicitly set the environment variable TOKENIZERS_PARALLELISM=(true | false)\n",
      "huggingface/tokenizers: The current process just got forked, after parallelism has already been used. Disabling parallelism to avoid deadlocks...\n",
      "To disable this warning, you can either:\n",
      "\t- Avoid using `tokenizers` before the fork if possible\n",
      "\t- Explicitly set the environment variable TOKENIZERS_PARALLELISM=(true | false)\n",
      "huggingface/tokenizers: The current process just got forked, after parallelism has already been used. Disabling parallelism to avoid deadlocks...\n",
      "To disable this warning, you can either:\n",
      "\t- Avoid using `tokenizers` before the fork if possible\n",
      "\t- Explicitly set the environment variable TOKENIZERS_PARALLELISM=(true | false)\n",
      "huggingface/tokenizers: The current process just got forked, after parallelism has already been used. Disabling parallelism to avoid deadlocks...\n",
      "To disable this warning, you can either:\n",
      "\t- Avoid using `tokenizers` before the fork if possible\n",
      "\t- Explicitly set the environment variable TOKENIZERS_PARALLELISM=(true | false)\n",
      "huggingface/tokenizers: The current process just got forked, after parallelism has already been used. Disabling parallelism to avoid deadlocks...\n",
      "To disable this warning, you can either:\n",
      "\t- Avoid using `tokenizers` before the fork if possible\n",
      "\t- Explicitly set the environment variable TOKENIZERS_PARALLELISM=(true | false)\n",
      "1000it [01:47,  8.83it/s]"
     ]
    },
    {
     "name": "stdout",
     "output_type": "stream",
     "text": [
      "Epoch: 0, Batch: 999/18088, Loss: 11.23216724395752, LR: 1.1061946902654867e-05\n"
     ]
    },
    {
     "name": "stderr",
     "output_type": "stream",
     "text": [
      "2001it [03:36,  9.17it/s]"
     ]
    },
    {
     "name": "stdout",
     "output_type": "stream",
     "text": [
      "Epoch: 0, Batch: 1999/18088, Loss: 6.367169380187988, LR: 2.2123893805309735e-05\n"
     ]
    },
    {
     "name": "stderr",
     "output_type": "stream",
     "text": [
      "3000it [05:24,  8.84it/s]"
     ]
    },
    {
     "name": "stdout",
     "output_type": "stream",
     "text": [
      "Epoch: 0, Batch: 2999/18088, Loss: 5.103701591491699, LR: 3.3185840707964604e-05\n"
     ]
    },
    {
     "name": "stderr",
     "output_type": "stream",
     "text": [
      "4000it [07:12,  8.90it/s]"
     ]
    },
    {
     "name": "stdout",
     "output_type": "stream",
     "text": [
      "Epoch: 0, Batch: 3999/18088, Loss: 4.362479209899902, LR: 4.424778761061947e-05\n"
     ]
    },
    {
     "name": "stderr",
     "output_type": "stream",
     "text": [
      "4999it [09:00,  9.28it/s]"
     ]
    },
    {
     "name": "stdout",
     "output_type": "stream",
     "text": [
      "Epoch: 0, Batch: 4999/18088, Loss: 3.627501964569092, LR: 5.5309734513274336e-05\n",
      "Saving model with test loss of 3.820\n"
     ]
    },
    {
     "name": "stderr",
     "output_type": "stream",
     "text": [
      "6001it [10:51,  9.01it/s]"
     ]
    },
    {
     "name": "stdout",
     "output_type": "stream",
     "text": [
      "Epoch: 0, Batch: 5999/18088, Loss: 3.5280957221984863, LR: 6.637168141592921e-05\n"
     ]
    },
    {
     "name": "stderr",
     "output_type": "stream",
     "text": [
      "7000it [12:39,  8.87it/s]"
     ]
    },
    {
     "name": "stdout",
     "output_type": "stream",
     "text": [
      "Epoch: 0, Batch: 6999/18088, Loss: 3.173626661300659, LR: 7.743362831858407e-05\n"
     ]
    },
    {
     "name": "stderr",
     "output_type": "stream",
     "text": [
      "8000it [14:27,  8.86it/s]"
     ]
    },
    {
     "name": "stdout",
     "output_type": "stream",
     "text": [
      "Epoch: 0, Batch: 7999/18088, Loss: 3.1209208965301514, LR: 8.849557522123894e-05\n"
     ]
    },
    {
     "name": "stderr",
     "output_type": "stream",
     "text": [
      "9000it [16:15,  8.89it/s]"
     ]
    },
    {
     "name": "stdout",
     "output_type": "stream",
     "text": [
      "Epoch: 0, Batch: 8999/18088, Loss: 2.636758327484131, LR: 9.955752212389381e-05\n"
     ]
    },
    {
     "name": "stderr",
     "output_type": "stream",
     "text": [
      "9999it [18:03,  9.30it/s]"
     ]
    },
    {
     "name": "stdout",
     "output_type": "stream",
     "text": [
      "Epoch: 0, Batch: 9999/18088, Loss: 2.6385674476623535, LR: 0.00011061946902654867\n",
      "Saving model with test loss of 2.795\n"
     ]
    },
    {
     "name": "stderr",
     "output_type": "stream",
     "text": [
      "11000it [19:53,  8.83it/s]"
     ]
    },
    {
     "name": "stdout",
     "output_type": "stream",
     "text": [
      "Epoch: 0, Batch: 10999/18088, Loss: 2.781362771987915, LR: 0.00012168141592920354\n"
     ]
    },
    {
     "name": "stderr",
     "output_type": "stream",
     "text": [
      "11302it [20:26,  9.21it/s]\n",
      "huggingface/tokenizers: The current process just got forked, after parallelism has already been used. Disabling parallelism to avoid deadlocks...\n",
      "To disable this warning, you can either:\n",
      "\t- Avoid using `tokenizers` before the fork if possible\n",
      "\t- Explicitly set the environment variable TOKENIZERS_PARALLELISM=(true | false)\n",
      "huggingface/tokenizers: The current process just got forked, after parallelism has already been used. Disabling parallelism to avoid deadlocks...\n",
      "To disable this warning, you can either:\n",
      "\t- Avoid using `tokenizers` before the fork if possible\n",
      "\t- Explicitly set the environment variable TOKENIZERS_PARALLELISM=(true | false)\n",
      "huggingface/tokenizers: The current process just got forked, after parallelism has already been used. Disabling parallelism to avoid deadlocks...\n",
      "To disable this warning, you can either:\n",
      "\t- Avoid using `tokenizers` before the fork if possible\n",
      "\t- Explicitly set the environment variable TOKENIZERS_PARALLELISM=(true | false)\n",
      "huggingface/tokenizers: The current process just got forked, after parallelism has already been used. Disabling parallelism to avoid deadlocks...\n",
      "To disable this warning, you can either:\n",
      "\t- Avoid using `tokenizers` before the fork if possible\n",
      "\t- Explicitly set the environment variable TOKENIZERS_PARALLELISM=(true | false)\n",
      "huggingface/tokenizers: The current process just got forked, after parallelism has already been used. Disabling parallelism to avoid deadlocks...\n",
      "To disable this warning, you can either:\n",
      "\t- Avoid using `tokenizers` before the fork if possible\n",
      "\t- Explicitly set the environment variable TOKENIZERS_PARALLELISM=(true | false)\n",
      "huggingface/tokenizers: The current process just got forked, after parallelism has already been used. Disabling parallelism to avoid deadlocks...\n",
      "To disable this warning, you can either:\n",
      "\t- Avoid using `tokenizers` before the fork if possible\n",
      "\t- Explicitly set the environment variable TOKENIZERS_PARALLELISM=(true | false)\n",
      "huggingface/tokenizers: The current process just got forked, after parallelism has already been used. Disabling parallelism to avoid deadlocks...\n",
      "To disable this warning, you can either:\n",
      "\t- Avoid using `tokenizers` before the fork if possible\n",
      "\t- Explicitly set the environment variable TOKENIZERS_PARALLELISM=(true | false)\n",
      "huggingface/tokenizers: The current process just got forked, after parallelism has already been used. Disabling parallelism to avoid deadlocks...\n",
      "To disable this warning, you can either:\n",
      "\t- Avoid using `tokenizers` before the fork if possible\n",
      "\t- Explicitly set the environment variable TOKENIZERS_PARALLELISM=(true | false)\n",
      "1002it [01:48,  9.30it/s]"
     ]
    },
    {
     "name": "stdout",
     "output_type": "stream",
     "text": [
      "Epoch: 1, Batch: 999/18088, Loss: 2.5065481662750244, LR: 0.00013274336283185842\n"
     ]
    },
    {
     "name": "stderr",
     "output_type": "stream",
     "text": [
      "2000it [03:36,  8.92it/s]"
     ]
    },
    {
     "name": "stdout",
     "output_type": "stream",
     "text": [
      "Epoch: 1, Batch: 1999/18088, Loss: 2.5226550102233887, LR: 0.0001438053097345133\n"
     ]
    },
    {
     "name": "stderr",
     "output_type": "stream",
     "text": [
      "3000it [05:24,  8.78it/s]"
     ]
    },
    {
     "name": "stdout",
     "output_type": "stream",
     "text": [
      "Epoch: 1, Batch: 2999/18088, Loss: 2.4258015155792236, LR: 0.00015486725663716813\n"
     ]
    },
    {
     "name": "stderr",
     "output_type": "stream",
     "text": [
      "4001it [07:12,  9.12it/s]"
     ]
    },
    {
     "name": "stdout",
     "output_type": "stream",
     "text": [
      "Epoch: 1, Batch: 3999/18088, Loss: 2.2852673530578613, LR: 0.00016592920353982303\n"
     ]
    },
    {
     "name": "stderr",
     "output_type": "stream",
     "text": [
      "4999it [09:01,  9.25it/s]"
     ]
    },
    {
     "name": "stdout",
     "output_type": "stream",
     "text": [
      "Epoch: 1, Batch: 4999/18088, Loss: 2.2574713230133057, LR: 0.00017699115044247788\n",
      "Saving model with test loss of 2.566\n"
     ]
    },
    {
     "name": "stderr",
     "output_type": "stream",
     "text": [
      "6000it [10:51,  8.93it/s]"
     ]
    },
    {
     "name": "stdout",
     "output_type": "stream",
     "text": [
      "Epoch: 1, Batch: 5999/18088, Loss: 1.968928337097168, LR: 0.00018805309734513275\n"
     ]
    },
    {
     "name": "stderr",
     "output_type": "stream",
     "text": [
      "7000it [12:39,  8.87it/s]"
     ]
    },
    {
     "name": "stdout",
     "output_type": "stream",
     "text": [
      "Epoch: 1, Batch: 6999/18088, Loss: 1.9487088918685913, LR: 0.00019911504424778762\n"
     ]
    },
    {
     "name": "stderr",
     "output_type": "stream",
     "text": [
      "7899it [14:17,  9.33it/s]"
     ]
    }
   ],
   "source": [
    "loss_i = []\n",
    "\n",
    "for epoch in range(EPOCHS):\n",
    "    # Randomize data order, need to figure out a faster way to do this\n",
    "    loader = get_full_dataloader(train_dataset, LANG_TOKEN_MAPPING, tokenizer, batch_size, num_workers=8)\n",
    "    \n",
    "    for i, batch in tqdm.tqdm(enumerate(loader), total = n_batches):\n",
    "        inputs, targets = batch['input_ids'].cuda(), batch['target_ids'].cuda()\n",
    "        \n",
    "        # Zero gradients\n",
    "        optimizer.zero_grad()\n",
    "        # Forward pass (computes outputs and loss)\n",
    "        output = model(input_ids=inputs, labels=targets)\n",
    "        loss = output.loss\n",
    "        # Back propagation (computes gradients)\n",
    "        loss.backward()\n",
    "        # Optimization and scheduling\n",
    "        optimizer.step()\n",
    "        # Adjust every 100 batches\n",
    "        if(i+1) % 500 == 0:\n",
    "            loss_i.append(loss.item())\n",
    "            schedular.step()\n",
    "        # prints training updates\n",
    "        if (i+1) % print_freq == 0:\n",
    "            print(f'Epoch: {epoch + 1}, Batch: {i+1}/{n_batches}, Loss: {loss.item()}, LR: {schedular.get_last_lr()[0]}')\n",
    "        \n",
    "        if (i + 1) % checkpoint_freq == 0:\n",
    "            test_loss = eval_model(model, test_dataset)\n",
    "            print('Saving model with test loss of {:.3f}'.format(test_loss))\n",
    "            torch.save(model.state_dict(), 'mt5_translator.pt')\n",
    "torch.save(model.state_dict(), 'mt5_translator_final.pt')"
   ]
  },
  {
   "cell_type": "code",
   "execution_count": null,
   "metadata": {},
   "outputs": [
    {
     "data": {
      "text/plain": [
       "[<matplotlib.lines.Line2D at 0x7f37b68c4890>]"
      ]
     },
     "execution_count": 108,
     "metadata": {},
     "output_type": "execute_result"
    },
    {
     "data": {
      "image/png": "[encoded data removed]",
      "text/plain": [
       "<Figure size 640x480 with 1 Axes>"
      ]
     },
     "metadata": {},
     "output_type": "display_data"
    }
   ],
   "source": [
    "plt.plot(loss_i)"
   ]
  },
  {
   "cell_type": "markdown",
   "metadata": {},
   "source": [
    "Test Sentence"
   ]
  },
  {
   "cell_type": "code",
   "execution_count": null,
   "metadata": {},
   "outputs": [
    {
     "name": "stdout",
     "output_type": "stream",
     "text": [
      "Test sentence: Randwick has been locked down, and is expected to remain so for up to two months.\n",
      "Truncated input: <ja> Randwick has been locked down, and is expected to remain so for up</s>\n"
     ]
    }
   ],
   "source": [
    "# Get a test sentence\n",
    "test_sentence = test_dataset[1]['translation']['en']\n",
    "print(f\"Test sentence: {test_sentence}\")\n",
    "# Tokenize and encode the test sentence\n",
    "input_ids = encode_input_str(test_sentence, 'ja', tokenizer, model.config.max_length, LANG_TOKEN_MAPPING)\n",
    "input_ids = input_ids.unsqueeze(0).cuda()\n",
    "# print out the tokenized sentence of max length\n",
    "print(\"Truncated input:\", tokenizer.convert_tokens_to_string(tokenizer.convert_ids_to_tokens(input_ids[0])))"
   ]
  },
  {
   "cell_type": "code",
   "execution_count": null,
   "metadata": {},
   "outputs": [
    {
     "name": "stdout",
     "output_type": "stream",
     "text": [
      "ランダーウィックが倒壊したと予想されている。\n",
      "ランダーウィックが倒壊したと予想されているが、現在、その地域は\n",
      "ランダーウィックが倒壊したと予想されているが、その時点では、この\n"
     ]
    }
   ],
   "source": [
    "# convert to new language\n",
    "output = model.generate(input_ids, num_beams = 10, num_return_sequences = 3)\n",
    "for token_set in output:\n",
    "    print(tokenizer.decode(token_set, skip_special_tokens=True))"
   ]
  },
  {
   "cell_type": "code",
   "execution_count": null,
   "metadata": {},
   "outputs": [],
   "source": [
    "def get_all_translation_data(translations, lang_token_map,\n",
    "                            tokenizer, seq_length=20):\n",
    "  input_ids = []\n",
    "  target_ids = []\n",
    "  \n",
    "  langs = list(lang_token_map.keys())\n",
    "  for input_lang, target_lang in itertools.permutations(langs, 2):\n",
    "    input_text = translations[input_lang]\n",
    "    target_text = translations[target_lang]\n",
    "    \n",
    "    if input_text is None or target_text is None:\n",
    "        return None, None\n",
    "    \n",
    "    input_ids.append(encode_input_str(input_text, target_lang, tokenizer, seq_length, \n",
    "                                    lang_token_map))\n",
    "    \n",
    "    target_ids.append(encode_target_str(target_text, tokenizer, seq_length))\n",
    "  \n",
    "  return input_ids, target_ids"
   ]
  },
  {
   "cell_type": "code",
   "execution_count": null,
   "metadata": {},
   "outputs": [],
   "source": [
    "a, b = get_all_translation_data(train_dataset[0]['translation'], LANG_TOKEN_MAPPING, tokenizer)"
   ]
  },
  {
   "cell_type": "code",
   "execution_count": null,
   "metadata": {},
   "outputs": [],
   "source": [
    "c = []\n",
    "c = c + a"
   ]
  },
  {
   "cell_type": "code",
   "execution_count": 142,
   "metadata": {},
   "outputs": [
    {
     "data": {
      "text/plain": [
       "[tensor([250100,  20161,    783,    269,  62956,    345,  15772,    381,  62482,\n",
       "            281,  23577,    371,    304,    287,   1848,    259,  93887,   4025,\n",
       "          10291,      1]),\n",
       " tensor([250102,  20161,    783,    269,  62956,    345,  15772,    381,  62482,\n",
       "            281,  23577,    371,    304,    287,   1848,    259,  93887,   4025,\n",
       "          10291,      1]),\n",
       " tensor([250103,  20161,    783,    269,  62956,    345,  15772,    381,  62482,\n",
       "            281,  23577,    371,    304,    287,   1848,    259,  93887,   4025,\n",
       "          10291,      1]),\n",
       " tensor([250104,  20161,    783,    269,  62956,    345,  15772,    381,  62482,\n",
       "            281,  23577,    371,    304,    287,   1848,    259,  93887,   4025,\n",
       "          10291,      1]),\n",
       " tensor([250101,  33756,    268,    594,  20161,    262,    740,  15772,    327,\n",
       "           8218,    263,    294,    381,  62482,    327,    259,  37503,    370,\n",
       "            371,      1]),\n",
       " tensor([250102,  33756,    268,    594,  20161,    262,    740,  15772,    327,\n",
       "           8218,    263,    294,    381,  62482,    327,    259,  37503,    370,\n",
       "            371,      1]),\n",
       " tensor([250103,  33756,    268,    594,  20161,    262,    740,  15772,    327,\n",
       "           8218,    263,    294,    381,  62482,    327,    259,  37503,    370,\n",
       "            371,      1]),\n",
       " tensor([250104,  33756,    268,    594,  20161,    262,    740,  15772,    327,\n",
       "           8218,    263,    294,    381,  62482,    327,    259,  37503,    370,\n",
       "            371,      1]),\n",
       " tensor([250101,   1848,    844,  46739,  81794,  25488,    261,  21799, 102577,\n",
       "            641,  78910,   1650,  31417,   2312,    259, 132205,  25488,  48242,\n",
       "            844,      1]),\n",
       " tensor([250100,   1848,    844,  46739,  81794,  25488,    261,  21799, 102577,\n",
       "            641,  78910,   1650,  31417,   2312,    259, 132205,  25488,  48242,\n",
       "            844,      1]),\n",
       " tensor([250103,   1848,    844,  46739,  81794,  25488,    261,  21799, 102577,\n",
       "            641,  78910,   1650,  31417,   2312,    259, 132205,  25488,  48242,\n",
       "            844,      1]),\n",
       " tensor([250104,   1848,    844,  46739,  81794,  25488,    261,  21799, 102577,\n",
       "            641,  78910,   1650,  31417,   2312,    259, 132205,  25488,  48242,\n",
       "            844,      1]),\n",
       " tensor([250101,   7444,    693,   6950,  10612,  43440,  15772,    381,  62482,\n",
       "            301,   4958,    371,   1215,  21475,    492,    259,  38316,    259,\n",
       "          93887,      1]),\n",
       " tensor([250100,   7444,    693,   6950,  10612,  43440,  15772,    381,  62482,\n",
       "            301,   4958,    371,   1215,  21475,    492,    259,  38316,    259,\n",
       "          93887,      1]),\n",
       " tensor([250102,   7444,    693,   6950,  10612,  43440,  15772,    381,  62482,\n",
       "            301,   4958,    371,   1215,  21475,    492,    259,  38316,    259,\n",
       "          93887,      1]),\n",
       " tensor([250104,   7444,    693,   6950,  10612,  43440,  15772,    381,  62482,\n",
       "            301,   4958,    371,   1215,  21475,    492,    259,  38316,    259,\n",
       "          93887,      1]),\n",
       " tensor([250101,    259,  75179,    423,  85757,    292, 123213,   6662,    626,\n",
       "          13532,    626,  36350,   3144,    627, 231749,  17774,    848, 221756,\n",
       "         118058,      1]),\n",
       " tensor([250100,    259,  75179,    423,  85757,    292, 123213,   6662,    626,\n",
       "          13532,    626,  36350,   3144,    627, 231749,  17774,    848, 221756,\n",
       "         118058,      1]),\n",
       " tensor([250102,    259,  75179,    423,  85757,    292, 123213,   6662,    626,\n",
       "          13532,    626,  36350,   3144,    627, 231749,  17774,    848, 221756,\n",
       "         118058,      1]),\n",
       " tensor([250103,    259,  75179,    423,  85757,    292, 123213,   6662,    626,\n",
       "          13532,    626,  36350,   3144,    627, 231749,  17774,    848, 221756,\n",
       "         118058,      1])]"
      ]
     },
     "execution_count": 142,
     "metadata": {},
     "output_type": "execute_result"
    }
   ],
   "source": [
    "c"
   ]
  },
  {
   "cell_type": "code",
   "execution_count": 129,
   "metadata": {},
   "outputs": [
    {
     "name": "stdout",
     "output_type": "stream",
     "text": [
      "en fil\n",
      "en hi\n",
      "en id\n",
      "en ja\n",
      "fil en\n",
      "fil hi\n",
      "fil id\n",
      "fil ja\n",
      "hi en\n",
      "hi fil\n",
      "hi id\n",
      "hi ja\n",
      "id en\n",
      "id fil\n",
      "id hi\n",
      "id ja\n",
      "ja en\n",
      "ja fil\n",
      "ja hi\n",
      "ja id\n"
     ]
    }
   ],
   "source": [
    "# choose 2 random languages for i/o\n",
    "langs = list(LANG_TOKEN_MAPPING.keys())\n",
    "for input_lang, target_lang in itertools.permutations(langs, 2):\n",
    "  print(input_lang, target_lang)"
   ]
  },
  {
   "cell_type": "code",
   "execution_count": 135,
   "metadata": {},
   "outputs": [
    {
     "name": "stdout",
     "output_type": "stream",
     "text": [
      "<ja> ▁Italia ▁ber hasil ▁menga lahkan ▁Portugal ▁3 1-5 ▁di ▁grup ▁C ▁dalam ▁Pia la ▁ Dunia ▁ Rugby </s>\n",
      "▁ フランス の パリ 、 パル ク ・ デ ・ プラン ス で 行われた 2007 年 ラグビー ワールド カップ </s>\n"
     ]
    }
   ],
   "source": [
    "# convert the translation data of first data point to input and output tensors\n",
    "input_ids, output_ids = format_translation_data(train_dataset[0]['translation'], LANG_TOKEN_MAPPING, tokenizer)\n",
    "# print out decoded input and output tensors\n",
    "print(' '.join(tokenizer.convert_ids_to_tokens(input_ids)))\n",
    "print(' '.join(tokenizer.convert_ids_to_tokens(output_ids)))"
   ]
  },
  {
   "cell_type": "code",
   "execution_count": null,
   "metadata": {},
   "outputs": [],
   "source": []
  }
 ],
 "metadata": {
  "kernelspec": {
   "display_name": "Python 3 (ipykernel)",
   "language": "python",
   "name": "python3"
  },
  "language_info": {
   "codemirror_mode": {
    "name": "ipython",
    "version": 3
   },
   "file_extension": ".py",
   "mimetype": "text/x-python",
   "name": "python",
   "nbconvert_exporter": "python",
   "pygments_lexer": "ipython3",
   "version": "3.11.7"
  }
 },
 "nbformat": 4,
 "nbformat_minor": 2
}
